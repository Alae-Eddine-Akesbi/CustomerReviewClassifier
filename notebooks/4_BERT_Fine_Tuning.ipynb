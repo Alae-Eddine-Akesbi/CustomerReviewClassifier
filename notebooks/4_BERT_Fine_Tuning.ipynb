{
 "cells": [
  {
   "cell_type": "markdown",
   "metadata": {},
   "source": [
    "# 4. Fine-Tuning de BERT avec LoRA\n",
    "\n",
    "## 4.1. Introduction\n",
    "\n",
    "Ce notebook passe aux modèles de Deep Learning en utilisant **BERT (Bidirectional Encoder Representations from Transformers)**. Pour rendre le fine-tuning plus efficace, nous utilisons la technique **LoRA (Low-Rank Adaptation)**, qui permet d'adapter le modèle pré-entraîné en n'entraînant qu'un très petit nombre de paramètres supplémentaires.\n",
    "\n",
    "**Étapes Principales :**\n",
    "- Installation des bibliothèques nécessaires.\n",
    "- Chargement et échantillonnage des données.\n",
    "- Tokenisation des textes pour BERT.\n",
    "- Configuration et application de LoRA au modèle BERT.\n",
    "- Entraînement avec le `Trainer` de Hugging Face.\n",
    "- Évaluation et sauvegarde du modèle adapté."
   ]
  },
  {
   "cell_type": "markdown",
   "metadata": {},
   "source": [
    "## 4.2. Installation des dépendances"
   ]
  },
  {
   "cell_type": "code",
   "execution_count": null,
   "metadata": {},
   "outputs": [],
   "source": [
    "!pip install peft transformers datasets accelerate bitsandbytes evaluate -q"
   ]
  },
  {
   "cell_type": "markdown",
   "metadata": {},
   "source": [
    "## 4.3. Importation des bibliothèques"
   ]
  },
  {
   "cell_type": "code",
   "execution_count": null,
   "metadata": {},
   "outputs": [],
   "source": [
    "import torch\n",
    "import pandas as pd\n",
    "import evaluate\n",
    "from datasets import Dataset\n",
    "from sklearn.model_selection import train_test_split\n",
    "from transformers import BertTokenizer, BertForSequenceClassification, Trainer, TrainingArguments\n",
    "from peft import LoraConfig, get_peft_model, TaskType"
   ]
  },
  {
   "cell_type": "markdown",
   "metadata": {},
   "source": [
    "## 4.4. Chargement et Préparation des Données"
   ]
  },
  {
   "cell_type": "code",
   "execution_count": null,
   "metadata": {},
   "outputs": [],
   "source": [
    "# Charger le jeu de données complet\n",
    "data = pd.read_csv('../data/balanced_subset.csv')\n",
    "\n",
    "# Échantillonner 30% des données pour un fine-tuning plus rapide\n",
    "sampled_data = data.sample(frac=0.3, random_state=42)\n",
    "\n",
    "# Mapper les labels textuels en entiers numériques\n",
    "label_map = {\"Positive\": 2, \"Neutral\": 1, \"Negative\": 0}\n",
    "sampled_data['rating'] = sampled_data['rating'].map(label_map)\n",
    "\n",
    "# Supprimer les lignes où le texte est manquant (au cas où)\n",
    "sampled_data.dropna(subset=['cleaned_text'], inplace=True)\n",
    "\n",
    "# Division en ensembles d'entraînement et de validation\n",
    "train_texts, val_texts, train_labels, val_labels = train_test_split(\n",
    "    sampled_data['cleaned_text'].tolist(), \n",
    "    sampled_data['rating'].tolist(), \n",
    "    test_size=0.2, \n",
    "    random_state=42,\n",
    "    stratify=sampled_data['rating'].tolist()\n",
    ")\n",
    "\n",
    "print(f\"Taille de l'ensemble d'entraînement : {len(train_texts)}\")\n",
    "print(f\"Taille de l'ensemble de validation : {len(val_texts)}\")"
   ]
  },
  {
   "cell_type": "markdown",
   "metadata": {},
   "source": [
    "## 4.5. Tokenisation"
   ]
  },
  {
   "cell_type": "code",
   "execution_count": null,
   "metadata": {},
   "outputs": [],
   "source": [
    "model_name = \"bert-base-uncased\"\n",
    "tokenizer = BertTokenizer.from_pretrained(model_name)\n",
    "\n",
    "# Tokeniser les textes\n",
    "train_encodings = tokenizer(train_texts, truncation=True, padding=True, max_length=128)\n",
    "val_encodings = tokenizer(val_texts, truncation=True, padding=True, max_length=128)"
   ]
  },
  {
   "cell_type": "markdown",
   "metadata": {},
   "source": [
    "## 4.6. Création des Datasets Hugging Face"
   ]
  },
  {
   "cell_type": "code",
   "execution_count": null,
   "metadata": {},
   "outputs": [],
   "source": [
    "# Créer des objets Dataset pour le Trainer\n",
    "train_dataset = Dataset.from_dict({\n",
    "    \"input_ids\": train_encodings[\"input_ids\"],\n",
    "    \"attention_mask\": train_encodings[\"attention_mask\"],\n",
    "    \"labels\": train_labels,\n",
    "})\n",
    "\n",
    "val_dataset = Dataset.from_dict({\n",
    "    \"input_ids\": val_encodings[\"input_ids\"],\n",
    "    \"attention_mask\": val_encodings[\"attention_mask\"],\n",
    "    \"labels\": val_labels,\n",
    "})"
   ]
  },
  {
   "cell_type": "markdown",
   "metadata": {},
   "source": [
    "## 4.7. Configuration du Modèle avec LoRA"
   ]
  },
  {
   "cell_type": "code",
   "execution_count": null,
   "metadata": {},
   "outputs": [],
   "source": [
    "# Définir le device (GPU si disponible)\n",
    "device = torch.device('cuda' if torch.cuda.is_available() else 'cpu')\n",
    "print(f\"Utilisation du device : {device}\")\n",
    "\n",
    "# Charger le modèle BERT pré-entraîné\n",
    "model = BertForSequenceClassification.from_pretrained(model_name, num_labels=3)\n",
    "\n",
    "# Configurer LoRA\n",
    "lora_config = LoraConfig(\n",
    "    task_type=TaskType.SEQ_CLS,  # Tâche : Classification de Séquence\n",
    "    inference_mode=False,       # Activer le mode entraînement\n",
    "    r=8,                        # Rang de la matrice de décomposition (rank)\n",
    "    lora_alpha=16,              # Facteur d'échelle alpha\n",
    "    lora_dropout=0.1,           # Taux de dropout pour les couches LoRA\n",
    ")\n",
    "\n",
    "# Appliquer PEFT (LoRA) au modèle et le déplacer sur le bon device\n",
    "model = get_peft_model(model, lora_config).to(device)\n",
    "\n",
    "# Afficher les paramètres entraînables pour vérifier que LoRA est bien appliqué\n",
    "model.print_trainable_parameters()"
   ]
  },
  {
   "cell_type": "markdown",
   "metadata": {},
   "source": [
    "## 4.8. Entraînement du Modèle"
   ]
  },
  {
   "cell_type": "code",
   "execution_count": null,
   "metadata": {},
   "outputs": [],
   "source": [
    "# Charger la métrique de précision\n",
    "accuracy = evaluate.load(\"accuracy\")\n",
    "\n",
    "# Fonction pour calculer les métriques pendant l'évaluation\n",
    "def compute_metrics(eval_pred):\n",
    "    logits, labels = eval_pred\n",
    "    predictions = torch.argmax(torch.tensor(logits), axis=-1)\n",
    "    return accuracy.compute(predictions=predictions, references=labels)\n",
    "\n",
    "# Définir les arguments d'entraînement\n",
    "training_args = TrainingArguments(\n",
    "    output_dir=\"./results_bert\",\n",
    "    evaluation_strategy=\"epoch\",\n",
    "    save_strategy=\"epoch\",\n",
    "    learning_rate=5e-5,\n",
    "    per_device_train_batch_size=16,\n",
    "    per_device_eval_batch_size=16,\n",
    "    num_train_epochs=3,\n",
    "    weight_decay=0.01,\n",
    "    save_total_limit=2,\n",
    "    load_best_model_at_end=True,\n",
    "    metric_for_best_model=\"accuracy\",\n",
    "    push_to_hub=False,\n",
    "    logging_dir=\"./logs_bert\",\n",
    "    logging_steps=10,\n",
    "    fp16=True,  # Activer la précision mixte pour accélérer l'entraînement sur GPU\n",
    ")\n",
    "\n",
    "# Initialiser le Trainer\n",
    "trainer = Trainer(\n",
    "    model=model,\n",
    "    args=training_args,\n",
    "    train_dataset=train_dataset,\n",
    "    eval_dataset=val_dataset,\n",
    "    tokenizer=tokenizer,\n",
    "    compute_metrics=compute_metrics,\n",
    ")\n",
    "\n",
    "# Lancer l'entraînement\n",
    "trainer.train()"
   ]
  },
  {
   "cell_type": "markdown",
   "metadata": {},
   "source": [
    "## 4.9. Évaluation Finale"
   ]
  },
  {
   "cell_type": "code",
   "execution_count": null,
   "metadata": {},
   "outputs": [],
   "source": [
    "# Évaluer le modèle sur l'ensemble de validation après l'entraînement\n",
    "eval_results = trainer.evaluate()\n",
    "\n",
    "# Afficher le rapport d'évaluation\n",
    "print(\"Résultats de l'évaluation finale :\")\n",
    "for key, value in eval_results.items():\n",
    "    print(f\"{key}: {value:.4f}\")"
   ]
  },
  {
   "cell_type": "markdown",
   "metadata": {},
   "source": [
    "## 4.10. Sauvegarde du Modèle\n",
    "\n",
    "Sauvegarde du modèle fine-tuné et du tokenizer pour une utilisation ultérieure."
   ]
  },
  {
   "cell_type": "code",
   "execution_count": null,
   "metadata": {},
   "outputs": [],
   "source": [
    "# Définir le chemin de sauvegarde\n",
    "output_path = \"../models/bert_lora\"\n",
    "\n",
    "# Sauvegarder le modèle et le tokenizer\n",
    "model.save_pretrained(output_path)\n",
    "tokenizer.save_pretrained(output_path)\n",
    "\n",
    "print(f\"Modèle sauvegardé dans {output_path}\")"
   ]
  }
 ],
 "metadata": {
  "kernelspec": {
   "display_name": "Python 3",
   "language": "python",
   "name": "python3"
  },
  "language_info": {
   "codemirror_mode": {
    "name": "ipython",
    "version": 3
   },
   "file_extension": ".py",
   "mimetype": "text/x-python",
   "name": "python",
   "nbconvert_exporter": "python",
   "pygments_lexer": "ipython3",
   "version": "3.12.1"
  }
 },
 "nbformat": 4,
 "nbformat_minor": 0
}
