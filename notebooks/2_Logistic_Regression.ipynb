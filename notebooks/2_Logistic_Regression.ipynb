{
 "cells": [
  {
   "cell_type": "markdown",
   "metadata": {},
   "source": [
    "# 2. Modélisation avec la Régression Logistique\n",
    "\n",
    "## 2.1. Introduction\n",
    "\n",
    "Ce notebook présente une approche complète de classification des sentiments utilisant la **Régression Logistique**. C'est un excellent modèle de base pour les tâches de classification de texte.\n",
    "\n",
    "**Étapes Principales :**\n",
    "- Chargement des données préparées.\n",
    "- Encodage des labels.\n",
    "- Vectorisation des textes avec TF-IDF.\n",
    "- Optimisation des hyperparamètres avec GridSearchCV.\n",
    "- Entraînement et évaluation du modèle final.\n",
    "- Sauvegarde du modèle et des transformations pour une utilisation future."
   ]
  },
  {
   "cell_type": "markdown",
   "metadata": {},
   "source": [
    "## 2.2. Importation des bibliothèques"
   ]
  },
  {
   "cell_type": "code",
   "execution_count": null,
   "metadata": {},
   "outputs": [],
   "source": [
    "import pandas as pd\n",
    "import joblib\n",
    "from sklearn.preprocessing import LabelEncoder\n",
    "from sklearn.feature_extraction.text import TfidfVectorizer\n",
    "from sklearn.model_selection import train_test_split, cross_val_score, GridSearchCV\n",
    "from sklearn.linear_model import LogisticRegression\n",
    "from sklearn.metrics import accuracy_score, classification_report, confusion_matrix"
   ]
  },
  {
   "cell_type": "markdown",
   "metadata": {},
   "source": [
    "## 2.3. Chargement et Préparation des Données"
   ]
  },
  {
   "cell_type": "code",
   "execution_count": null,
   "metadata": {},
   "outputs": [],
   "source": [
    "# Charger le jeu de données équilibré créé dans le notebook précédent\n",
    "# Le chemin est relatif au dossier 'notebooks/'\n",
    "df = pd.read_csv('../data/balanced_subset.csv', encoding='utf-8')\n",
    "\n",
    "# Pour accélérer l'expérimentation, nous prenons un échantillon de 400 000 lignes\n",
    "df_subset = df.sample(n=400000, random_state=42)\n",
    "\n",
    "# Vérification des données chargées\n",
    "print(\"Aperçu du jeu de données :\")\n",
    "print(df_subset.head())\n",
    "\n",
    "# Vérification de la taille de l'échantillon\n",
    "print(f\"\\nTaille de l'échantillon : {df_subset.shape}\")\n",
    "\n",
    "# Vérifier l'équilibre des classes dans l'échantillon\n",
    "print(\"\\nDistribution des classes dans l'échantillon :\")\n",
    "print(df_subset['rating'].value_counts())"
   ]
  },
  {
   "cell_type": "markdown",
   "metadata": {},
   "source": [
    "## 2.4. Encodage des Labels\n",
    "\n",
    "Les modèles de machine learning nécessitent des entrées numériques. Nous convertissons donc les labels textuels ('Positive', 'Neutral', 'Negative') en nombres (par exemple, 2, 1, 0)."
   ]
  },
  {
   "cell_type": "code",
   "execution_count": null,
   "metadata": {},
   "outputs": [],
   "source": [
    "# Initialisation de l'encodeur\n",
    "label_encoder = LabelEncoder()\n",
    "\n",
    "# Transformation des labels\n",
    "df_subset['rating_encoded'] = label_encoder.fit_transform(df_subset['rating'])\n",
    "\n",
    "# Vérification des classes encodées (0: Negative, 1: Neutral, 2: Positive)\n",
    "print(f\"Classes originales : {label_encoder.classes_}\")\n",
    "print(f\"Classes encodées : {label_encoder.transform(label_encoder.classes_)}\")"
   ]
  },
  {
   "cell_type": "markdown",
   "metadata": {},
   "source": [
    "## 2.5. Vectorisation des Textes avec TF-IDF\n",
    "\n",
    "Nous transformons le texte brut en une matrice de caractéristiques numériques en utilisant la technique TF-IDF (Term Frequency-Inverse Document Frequency)."
   ]
  },
  {
   "cell_type": "code",
   "execution_count": null,
   "metadata": {},
   "outputs": [],
   "source": [
    "# Initialisation du TfidfVectorizer\n",
    "# max_features=10000 limite le vocabulaire aux 10 000 mots les plus fréquents pour réduire la dimensionnalité\n",
    "tfidf_vectorizer = TfidfVectorizer(max_features=10000)\n",
    "\n",
    "# Vectorisation des textes\n",
    "X_tfidf = tfidf_vectorizer.fit_transform(df_subset['cleaned_text'])\n",
    "\n",
    "# Séparation des features (X) et des labels (y)\n",
    "X = X_tfidf\n",
    "y = df_subset['rating_encoded']\n",
    "\n",
    "# Vérification de la forme des données vectorisées\n",
    "print(f\"Forme de la matrice de features (X) : {X.shape}\")"
   ]
  },
  {
   "cell_type": "markdown",
   "metadata": {},
   "source": [
    "## 2.6. Division en Ensembles d'Entraînement et de Test"
   ]
  },
  {
   "cell_type": "code",
   "execution_count": null,
   "metadata": {},
   "outputs": [],
   "source": [
    "# Division des données en 80% pour l'entraînement et 20% pour le test\n",
    "X_train, X_test, y_train, y_test = train_test_split(X, y, test_size=0.2, random_state=42, stratify=y)\n",
    "\n",
    "# Vérification des tailles des ensembles\n",
    "print(f\"Taille de l'ensemble d'entraînement : {X_train.shape}\")\n",
    "print(f\"Taille de l'ensemble de test : {X_test.shape}\")"
   ]
  },
  {
   "cell_type": "markdown",
   "metadata": {},
   "source": [
    "## 2.7. Optimisation des Hyperparamètres avec GridSearchCV\n",
    "\n",
    "Nous utilisons une recherche par grille (GridSearch) pour trouver la meilleure combinaison d'hyperparamètres pour notre modèle de Régression Logistique."
   ]
  },
  {
   "cell_type": "code",
   "execution_count": null,
   "metadata": {},
   "outputs": [],
   "source": [
    "# Définition de la grille de paramètres à tester\n",
    "param_grid = [\n",
    "    {\n",
    "        'penalty': ['l2'],\n",
    "        'C': [0.1, 1, 10],\n",
    "        'solver': ['lbfgs', 'sag']\n",
    "    },\n",
    "    {\n",
    "        'penalty': ['l1', 'l2'],\n",
    "        'C': [0.1, 1, 10],\n",
    "        'solver': ['saga'],\n",
    "    }\n",
    "]\n",
    "\n",
    "# Initialisation de GridSearchCV avec validation croisée (5-fold)\n",
    "grid_search = GridSearchCV(LogisticRegression(max_iter=1000, random_state=42), param_grid, cv=5, n_jobs=-1, scoring='accuracy', verbose=2)\n",
    "\n",
    "# Entraînement de GridSearchCV\n",
    "grid_search.fit(X_train, y_train)\n",
    "\n",
    "# Affichage des meilleurs paramètres trouvés\n",
    "print(f\"Meilleurs hyperparamètres : {grid_search.best_params_}\")\n",
    "\n",
    "# Meilleur modèle trouvé par la recherche\n",
    "best_logreg = grid_search.best_estimator_"
   ]
  },
  {
   "cell_type": "markdown",
   "metadata": {},
   "source": [
    "## 2.8. Évaluation du Modèle Final"
   ]
  },
  {
   "cell_type": "code",
   "execution_count": null,
   "metadata": {},
   "outputs": [],
   "source": [
    "# Prédictions sur l'ensemble de test avec le meilleur modèle\n",
    "y_pred = best_logreg.predict(X_test)\n",
    "\n",
    "# Calcul de la précision\n",
    "accuracy = accuracy_score(y_test, y_pred)\n",
    "print(f\"Précision du meilleur modèle sur l'ensemble de test : {accuracy:.4f}\")\n",
    "\n",
    "# Rapport de classification détaillé\n",
    "print(\"\\nRapport de classification :\")\n",
    "print(classification_report(y_test, y_pred, target_names=label_encoder.classes_))\n",
    "\n",
    "# Matrice de confusion\n",
    "print(\"\\nMatrice de confusion :\")\n",
    "print(confusion_matrix(y_test, y_pred))"
   ]
  },
  {
   "cell_type": "markdown",
   "metadata": {},
   "source": [
    "## 2.9. Sauvegarde du Modèle et des Transformations\n",
    "\n",
    "Nous sauvegardons le modèle entraîné, le vectoriseur TF-IDF et l'encodeur de labels pour pouvoir les réutiliser dans notre application Streamlit sans avoir à tout ré-entraîner."
   ]
  },
  {
   "cell_type": "code",
   "execution_count": null,
   "metadata": {},
   "outputs": [],
   "source": [
    "# Sauvegarder le modèle, le vectoriseur et l'encodeur dans le dossier approprié\n",
    "joblib.dump(best_logreg, '../models/logistic_regression/logreg_model.pkl')\n",
    "joblib.dump(tfidf_vectorizer, '../models/logistic_regression/tfidf_vectorizer.pkl')\n",
    "joblib.dump(label_encoder, '../models/logistic_regression/label_encoder.pkl')\n",
    "\n",
    "print(\"Modèle, vectoriseur et encodeur sauvegardés dans '../models/logistic_regression/'\")"
   ]
  },
  {
   "cell_type": "markdown",
   "metadata": {},
   "source": [
    "## 2.10. Test de Chargement et de Prédiction\n",
    "\n",
    "Vérifions que les objets sauvegardés peuvent être chargés et utilisés correctement pour faire une prédiction."
   ]
  },
  {
   "cell_type": "code",
   "execution_count": null,
   "metadata": {},
   "outputs": [],
   "source": [
    "# Charger le modèle, le vectoriseur et l'encodeur depuis les nouveaux chemins\n",
    "loaded_model = joblib.load('../models/logistic_regression/logreg_model.pkl')\n",
    "loaded_vectorizer = joblib.load('../models/logistic_regression/tfidf_vectorizer.pkl')\n",
    "loaded_label_encoder = joblib.load('../models/logistic_regression/label_encoder.pkl')\n",
    "\n",
    "# Exemple de texte pour la prédiction\n",
    "example_text = [\"The food was amazing and the service was excellent!\"]\n",
    "\n",
    "# Vectorisation du texte\n",
    "example_tfidf = loaded_vectorizer.transform(example_text)\n",
    "\n",
    "# Prédiction\n",
    "predicted_rating_encoded = loaded_model.predict(example_tfidf)\n",
    "\n",
    "# Décodage de la prédiction pour obtenir le label textuel\n",
    "predicted_rating_label = loaded_label_encoder.inverse_transform(predicted_rating_encoded)\n",
    "\n",
    "print(f\"Texte : '{example_text[0]}' -> Prédiction : {predicted_rating_label[0]}\")"
   ]
  }
 ],
 "metadata": {
  "kernelspec": {
   "display_name": "Python 3",
   "language": "python",
   "name": "python3"
  },
  "language_info": {
   "codemirror_mode": {
    "name": "ipython",
    "version": 3
   },
   "file_extension": ".py",
   "mimetype": "text/x-python",
   "name": "python",
   "nbconvert_exporter": "python",
   "pygments_lexer": "ipython3",
   "version": "3.12.1"
  }
 },
 "nbformat": 4,
 "nbformat_minor": 0
}
