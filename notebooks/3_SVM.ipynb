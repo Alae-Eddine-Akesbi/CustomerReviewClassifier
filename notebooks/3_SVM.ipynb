{
 "cells": [
  {
   "cell_type": "markdown",
   "metadata": {},
   "source": [
    "# 3. Modélisation avec SVM (Support Vector Machine)\n",
    "\n",
    "## 3.1. Introduction\n",
    "\n",
    "Ce notebook explore l'utilisation d'un autre algorithme classique puissant, le **Support Vector Machine (SVM)**, pour la classification des sentiments.\n",
    "\n",
    "**Note sur le temps de calcul :** Les SVM peuvent être très lents à entraîner sur de grands jeux de données, en particulier avec des noyaux non linéaires. Pour cette raison, nous travaillerons sur un échantillon plus petit des données (100 000 lignes) pour l'entraînement final.\n",
    "\n",
    "**Étapes Principales :**\n",
    "- Chargement et échantillonnage des données.\n",
    "- Vectorisation avec TF-IDF.\n",
    "- Entraînement et évaluation du modèle.\n",
    "- Sauvegarde du modèle et du vectoriseur."
   ]
  },
  {
   "cell_type": "markdown",
   "metadata": {},
   "source": [
    "## 3.2. Importation des bibliothèques"
   ]
  },
  {
   "cell_type": "code",
   "execution_count": null,
   "metadata": {},
   "outputs": [],
   "source": [
    "import pandas as pd\n",
    "import joblib\n",
    "from sklearn.model_selection import train_test_split\n",
    "from sklearn.svm import SVC\n",
    "from sklearn.metrics import accuracy_score, classification_report\n",
    "from sklearn.feature_extraction.text import TfidfVectorizer"
   ]
  },
  {
   "cell_type": "markdown",
   "metadata": {},
   "source": [
    "## 3.3. Chargement et Préparation des Données"
   ]
  },
  {
   "cell_type": "code",
   "execution_count": null,
   "metadata": {},
   "outputs": [],
   "source": [
    "# Charger le jeu de données équilibré\n",
    "df_full = pd.read_csv('../data/balanced_subset.csv', encoding='utf-8')\n",
    "\n",
    "# Prendre un échantillon de 100 000 lignes pour l'entraînement du SVM\n",
    "df = df_full.sample(n=100000, random_state=42)\n",
    "\n",
    "print(\"Aperçu de l'échantillon de données :\")\n",
    "print(df.head())"
   ]
  },
  {
   "cell_type": "markdown",
   "metadata": {},
   "source": [
    "## 3.4. Vectorisation et Division des Données"
   ]
  },
  {
   "cell_type": "code",
   "execution_count": null,
   "metadata": {},
   "outputs": [],
   "source": [
    "# Initialiser TF-IDF avec un vocabulaire limité à 1000 features pour réduire la complexité\n",
    "vectorizer = TfidfVectorizer(stop_words='english', max_features=1000)\n",
    "\n",
    "# Transformer les commentaires en vecteurs\n",
    "X = vectorizer.fit_transform(df['cleaned_text'])\n",
    "\n",
    "# Les ratings sont la cible (y)\n",
    "y = df['rating']\n",
    "\n",
    "# Diviser les données en ensembles d'entraînement et de test (80/20)\n",
    "X_train, X_test, y_train, y_test = train_test_split(X, y, test_size=0.2, random_state=42, stratify=y)\n",
    "\n",
    "print(f\"Forme de l'ensemble d'entraînement : {X_train.shape}\")\n",
    "print(f\"Forme de l'ensemble de test : {X_test.shape}\")"
   ]
  },
  {
   "cell_type": "markdown",
   "metadata": {},
   "source": [
    "## 3.5. Entraînement et Évaluation du Modèle SVM\n",
    "\n",
    "Nous utilisons un noyau RBF (Radial Basis Function), qui est un choix courant et performant pour les SVM."
   ]
  },
  {
   "cell_type": "code",
   "execution_count": null,
   "metadata": {},
   "outputs": [],
   "source": [
    "# Initialiser le modèle SVM avec des hyperparamètres courants\n",
    "# Le noyau 'rbf' est un bon point de départ pour de nombreuses tâches.\n",
    "svm_model = SVC(kernel='rbf', C=10, gamma='scale', random_state=42, verbose=True)\n",
    "\n",
    "# Entraînement du modèle sur l'ensemble d'entraînement\n",
    "print(\"Début de l'entraînement du modèle SVM...\")\n",
    "svm_model.fit(X_train, y_train)\n",
    "print(\"Entraînement terminé.\")\n",
    "\n",
    "# Prédictions sur les données de test\n",
    "y_pred = svm_model.predict(X_test)\n",
    "\n",
    "# Évaluation des performances\n",
    "accuracy = accuracy_score(y_test, y_pred)\n",
    "print(f\"\\nPrécision du modèle SVM : {accuracy:.4f}\")\n",
    "\n",
    "print(\"\\nRapport de classification :\")\n",
    "print(classification_report(y_test, y_pred))"
   ]
  },
  {
   "cell_type": "markdown",
   "metadata": {},
   "source": [
    "## 3.6. Sauvegarde du Modèle\n",
    "\n",
    "Nous sauvegardons le modèle SVM entraîné et le vectoriseur correspondant."
   ]
  },
  {
   "cell_type": "code",
   "execution_count": null,
   "metadata": {},
   "outputs": [],
   "source": [
    "# Sauvegarder le modèle et le vectorizer\n",
    "joblib.dump(svm_model, '../models/svm/svm_model.pkl')\n",
    "joblib.dump(vectorizer, '../models/svm/tfidf_vectorizer.pkl')\n",
    "\n",
    "print(\"Modèle SVM et vectoriseur sauvegardés dans '../models/svm/'\")"
   ]
  },
  {
   "cell_type": "markdown",
   "metadata": {},
   "source": [
    "## 3.7. Test de Chargement et Prédiction"
   ]
  },
  {
   "cell_type": "code",
   "execution_count": null,
   "metadata": {},
   "outputs": [],
   "source": [
    "# Charger le modèle et le vectorizer\n",
    "loaded_model = joblib.load('../models/svm/svm_model.pkl')\n",
    "loaded_vectorizer = joblib.load('../models/svm/tfidf_vectorizer.pkl')\n",
    "\n",
    "# Nouveau commentaire pour le test\n",
    "new_comment = [\"The experience was just okay, not great but not bad either.\"]\n",
    "new_comment_tfidf = loaded_vectorizer.transform(new_comment)\n",
    "\n",
    "# Prédiction\n",
    "predicted_rating = loaded_model.predict(new_comment_tfidf)\n",
    "print(f\"Texte : '{new_comment[0]}' -> Prédiction : {predicted_rating[0]}\")"
   ]
  }
 ],
 "metadata": {
  "kernelspec": {
   "display_name": "Python 3",
   "language": "python",
   "name": "python3"
  },
  "language_info": {
   "codemirror_mode": {
    "name": "ipython",
    "version": 3
   },
   "file_extension": ".py",
   "mimetype": "text/x-python",
   "name": "python",
   "nbconvert_exporter": "python",
   "pygments_lexer": "ipython3",
   "version": "3.12.1"
  }
 },
 "nbformat": 4,
 "nbformat_minor": 0
}
